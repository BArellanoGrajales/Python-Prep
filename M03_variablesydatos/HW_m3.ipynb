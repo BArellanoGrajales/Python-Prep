{
 "cells": [
  {
   "cell_type": "code",
   "execution_count": 1,
   "metadata": {},
   "outputs": [],
   "source": [
    "#A Continuación ejercicios de variables \n"
   ]
  },
  {
   "cell_type": "code",
   "execution_count": 6,
   "metadata": {},
   "outputs": [
    {
     "name": "stdout",
     "output_type": "stream",
     "text": [
      "10\n",
      "10\n"
     ]
    }
   ],
   "source": [
    "\n",
    "#1 Crear una variable que contenga un elemento del conjunto de números enteros y luego imprimir por pantalla\n",
    "x=10\n",
    "num1=x\n",
    "print(x)\n",
    "print(num1)"
   ]
  },
  {
   "cell_type": "code",
   "execution_count": 5,
   "metadata": {},
   "outputs": [
    {
     "name": "stdout",
     "output_type": "stream",
     "text": [
      "<class 'float'>\n"
     ]
    }
   ],
   "source": [
    "#2 Imprimir el tipo de dato de la constante 8.5\n",
    "x=8.5\n",
    "print(type(x))   # esto es lo mismo que si yo digera print(type(8.5)) "
   ]
  },
  {
   "cell_type": "code",
   "execution_count": 8,
   "metadata": {},
   "outputs": [
    {
     "name": "stdout",
     "output_type": "stream",
     "text": [
      "<class 'int'>\n"
     ]
    }
   ],
   "source": [
    "#3 Imprimir el tipo de dato de la variable creada en el punto 1\n",
    "\n",
    "print(type(num1))"
   ]
  },
  {
   "cell_type": "code",
   "execution_count": 9,
   "metadata": {},
   "outputs": [
    {
     "name": "stdout",
     "output_type": "stream",
     "text": [
      "Beatriz_Arellano\n"
     ]
    }
   ],
   "source": [
    "#4 Crear una variable que contenga tu nombre\n",
    "\n",
    "variable1 = \"Beatriz_Arellano\"\n",
    "print(variable1)"
   ]
  },
  {
   "cell_type": "code",
   "execution_count": 18,
   "metadata": {},
   "outputs": [
    {
     "name": "stdout",
     "output_type": "stream",
     "text": [
      "(10+2j)\n"
     ]
    }
   ],
   "source": [
    "#5 Crear una variable que contenga un número complejo\n",
    "variable2=num1+2j    #Solo la letra j  puyede usarse para represnetar un numero imaginario en Paython ( no se pueden usar otras letras como en las matematicas convecionales)\n",
    "print(variable2)   "
   ]
  },
  {
   "cell_type": "code",
   "execution_count": 19,
   "metadata": {},
   "outputs": [
    {
     "name": "stdout",
     "output_type": "stream",
     "text": [
      "<class 'complex'>\n"
     ]
    }
   ],
   "source": [
    "#6 Mostrar el tipo de dato de la variable creada en el punto 5\n",
    "print(type(variable2))"
   ]
  },
  {
   "cell_type": "code",
   "execution_count": 49,
   "metadata": {},
   "outputs": [
    {
     "name": "stdout",
     "output_type": "stream",
     "text": [
      "3.141592653589793\n",
      "3.1416\n"
     ]
    }
   ],
   "source": [
    "#7 Crear una variable que contenga el valor del número Pi redondeado a 4 decimales\n",
    "import math    # si no pones esto antes será imposible que la funcione (math.pi)\n",
    "valor_pi=math.pi     #haces esto para sacar el valor de pi con formual matematica de paython\n",
    "print(valor_pi)      #imprimo el valor de pi\n",
    "valor_pi_redondeado=round(valor_pi,4)    #haces esto para redondear el valor de pi a 4 decimales\n",
    "print(valor_pi_redondeado)     #imprimo el valor de pi redondeado \n",
    "\n",
    "\n",
    "#Otra forma de expresar lo mismo \n",
    "Valor_pi1=3.1416   \n"
   ]
  },
  {
   "cell_type": "code",
   "execution_count": 53,
   "metadata": {},
   "outputs": [
    {
     "name": "stdout",
     "output_type": "stream",
     "text": [
      "<class 'str'>\n",
      "True\n"
     ]
    }
   ],
   "source": [
    "#8 Crear una variable que contenga el valor 'True' y otra que contenga el valor True. ¿Se trata de lo mismo?\n",
    "varible3=\"True\"  #String\n",
    "variable4=True   #Booleado\n",
    "print(type(varible3))\n",
    "print(variable4)\n",
    "\n",
    "#la respuesta es que no son lo mismo, ya que uno es un string y otro es un booleado por lo tanto son diferente tipos de datos\n",
    "# en paython "
   ]
  },
  {
   "cell_type": "code",
   "execution_count": 54,
   "metadata": {},
   "outputs": [
    {
     "name": "stdout",
     "output_type": "stream",
     "text": [
      "<class 'str'>\n",
      "True\n"
     ]
    }
   ],
   "source": [
    "#9 mprimir el tipo de dato correspondientes a las variables creadas en el punto 8\n",
    "print(type(varible3))\n",
    "print(variable4)\n"
   ]
  },
  {
   "cell_type": "code",
   "execution_count": 63,
   "metadata": {},
   "outputs": [
    {
     "name": "stdout",
     "output_type": "stream",
     "text": [
      "15.5\n",
      "<class 'float'>\n"
     ]
    }
   ],
   "source": [
    "#10 Asignar a una variable, la suma de un número entero y otro decimal\n",
    "A=int(5)\n",
    "B=float(10.5)\n",
    "variable5=A+B \n",
    "print(variable5)\n",
    "print(type(variable5))  #lo hago para saber el tipo de varaible resultante \n",
    "\n",
    "#Tambien lo puedes hacer si tener que especificar que 5 es int y que 10.5 es un tipo de dato float"
   ]
  },
  {
   "cell_type": "code",
   "execution_count": 69,
   "metadata": {},
   "outputs": [
    {
     "name": "stdout",
     "output_type": "stream",
     "text": [
      "25j\n",
      "25j\n",
      "<class 'complex'>\n"
     ]
    }
   ],
   "source": [
    "#11 Realizar una operación de suma de números complejos\n",
    "\n",
    "C=5j\n",
    "D=20j\n",
    "operacion_compleja=C+D\n",
    "print(operacion_compleja)\n",
    "\n",
    "\n",
    "# otra forma de rezalizar lo mismo pero utilizando la función Complex \n",
    "\n",
    "c=complex(0,5)   # Esto equivale a 5j\n",
    "d=complex(0,20)  # ESto equivale a 20j\n",
    "suma_compleja= c+d\n",
    "print(suma_compleja)  \n",
    "print(type(suma_compleja))  #virifico que tipo de dato estoy generando \n",
    "\n"
   ]
  },
  {
   "cell_type": "code",
   "execution_count": 75,
   "metadata": {},
   "outputs": [
    {
     "name": "stdout",
     "output_type": "stream",
     "text": [
      "(10.5+30j)\n",
      "(10.5+30j)\n",
      "<class 'complex'>\n"
     ]
    }
   ],
   "source": [
    "#12 Realizar una operación de suma de un número real y otro complejo\n",
    "E=10.5   #Numero real tipo Float\n",
    "F=30j    # numero complejo\n",
    "operacion_suma=E+F\n",
    "print(operacion_suma)\n",
    "\n",
    "\n",
    "#Otra forma de realizar lo mismo es:\n",
    "\n",
    "e=float(10.5)    #esto equivale a 10.5\n",
    "f=complex(0,30)  #Esto equivale a 30j\n",
    "suma_operacion=e+f\n",
    "print(suma_operacion)\n",
    "print(type(suma_operacion))\n"
   ]
  },
  {
   "cell_type": "code",
   "execution_count": 76,
   "metadata": {},
   "outputs": [
    {
     "name": "stdout",
     "output_type": "stream",
     "text": [
      "(105+300j)\n"
     ]
    }
   ],
   "source": [
    "#13 Realizar una operación de multiplicación\n",
    "operacion_multiplicar=num1*operacion_suma  #Recordmeos que Num1 tenia un valor de 10 anteriormente\n",
    "                                           #El valor de operacion suma anterior era de (10.5+30j) \n",
    "print(operacion_multiplicar)\n"
   ]
  },
  {
   "cell_type": "code",
   "execution_count": 78,
   "metadata": {},
   "outputs": [
    {
     "name": "stdout",
     "output_type": "stream",
     "text": [
      "256\n"
     ]
    }
   ],
   "source": [
    "#14 Mostrar el resultado de elevar 2 a la octava potencia\n",
    "elevar_2_octava_potencia=2**8   #si enves de 8 le pongo 3 , elevo el 2 a la tercera potencia\n",
    "print(elevar_2_octava_potencia)\n"
   ]
  },
  {
   "cell_type": "code",
   "execution_count": 87,
   "metadata": {},
   "outputs": [
    {
     "name": "stdout",
     "output_type": "stream",
     "text": [
      "6\n",
      "6\n",
      "6.75\n"
     ]
    }
   ],
   "source": [
    "#15 Obtener el cociente (Resultado entero de la divición) de la división de 27 entre 4 en una variable y luego mostrarla\n",
    "\n",
    "DIV=27//4   #cuando es cociente usamos //\n",
    "print(DIV)\n",
    "cociente=DIV\n",
    "print(cociente)\n",
    "\n",
    "\n",
    "# Si nos hubieran pedido que querian el resultado decimal de la divición hubieramos expresado lo sigiente\n",
    "DIV=27/4   #Cuando es divición decimal usamos solo / \n",
    "print(DIV)\n"
   ]
  },
  {
   "cell_type": "code",
   "execution_count": 83,
   "metadata": {},
   "outputs": [
    {
     "name": "stdout",
     "output_type": "stream",
     "text": [
      "6\n"
     ]
    }
   ],
   "source": [
    "#16 De la división anterior solamente mostrar la parte entera\n",
    "\n",
    "DIV=27//4   #cuando es cociente usamos //\n",
    "print(DIV)"
   ]
  },
  {
   "cell_type": "code",
   "execution_count": 84,
   "metadata": {},
   "outputs": [
    {
     "name": "stdout",
     "output_type": "stream",
     "text": [
      "3\n"
     ]
    }
   ],
   "source": [
    "#17  De la división de 27 entre 4 mostrar solamente el resto\n",
    "resto=27%4\n",
    "print(resto)"
   ]
  },
  {
   "cell_type": "code",
   "execution_count": 91,
   "metadata": {},
   "outputs": [
    {
     "name": "stdout",
     "output_type": "stream",
     "text": [
      "4\n",
      "6\n",
      "3\n",
      "27\n"
     ]
    }
   ],
   "source": [
    "#18 Utilizando como operandos el número 4 y los resultados obtenidos en los puntos 16 y 17. Obtener 27 como resultado\n",
    "\n",
    "# la formula original para obtener el número original a partir del cociente, divisor y resto es:\n",
    "#Numero original= (Cociente × Divisor) + Resto\n",
    "\n",
    "Divisor = 4 \n",
    "print(Divisor)\n",
    "print(cociente)   # Operación usada 27//4\n",
    "print(resto)      # Operación usada 27 % 4  \n",
    "\n",
    "#calculamos 27 \n",
    "\n",
    "Numero_original=(cociente*Divisor)+resto    #operacion realizada \n",
    "print(Numero_original)         #Nos dice que 27 es el numero original que estamos buscando \n",
    "\n",
    "\n",
    "\n"
   ]
  },
  {
   "cell_type": "code",
   "execution_count": 93,
   "metadata": {},
   "outputs": [
    {
     "name": "stdout",
     "output_type": "stream",
     "text": [
      "ABC123XYZ789\n"
     ]
    }
   ],
   "source": [
    "#19 Utilizar el operador \"+\" en una operación donde intervengan solo variables alfanuméricas\n",
    "\n",
    "variable_alfanumerica1 = \"ABC123\"\n",
    "variable_alfanumerica2 = \"XYZ789\"\n",
    "\n",
    "suma_variables_alfanumericas=variable_alfanumerica1+variable_alfanumerica2  #esto expresa una concadenación \n",
    "print(suma_variables_alfanumericas)\n"
   ]
  },
  {
   "cell_type": "code",
   "execution_count": 94,
   "metadata": {},
   "outputs": [
    {
     "name": "stdout",
     "output_type": "stream",
     "text": [
      "False\n"
     ]
    }
   ],
   "source": [
    "#20 Evaluar si \"2\" es igual a 2. ¿Por qué ocurre eso?\n",
    "\n",
    "evaluación= \"2\"==2\n",
    "print(evaluación)\n",
    "\n",
    "#  \"2\" es un numero tipo String  y 2 es un numero entero (int) por lo tanto no son iguales "
   ]
  },
  {
   "cell_type": "code",
   "execution_count": 112,
   "metadata": {},
   "outputs": [
    {
     "name": "stdout",
     "output_type": "stream",
     "text": [
      "<class 'str'>\n",
      "<class 'str'>\n",
      "True\n",
      "<class 'int'>\n",
      "True\n"
     ]
    }
   ],
   "source": [
    "# 21 Utilizar las funciones de cambio de tipo de dato, para que la validación del punto 20 resulte verdadera\n",
    "\n",
    "# En est ejemploo convertimos todas la svariables a string \n",
    "P='2'\n",
    "Y=2\n",
    "Q=str(Y)  #convierto el entero a string\n",
    "print(type(Q))\n",
    "print(type(P))\n",
    "evaluación1= P==Q\n",
    "print(evaluación1)\n",
    "\n",
    "\n",
    "#Tambien podemos resolverlo de otra forma en la que convertimos  el string a numero entero \n",
    "\n",
    "p='2'\n",
    "y=2\n",
    "q=int(p)   #convvierto el string a numero entero\n",
    "print(type(q))\n",
    "evaluación2= y==q\n",
    "print(evaluación2) \n",
    "\n"
   ]
  },
  {
   "cell_type": "code",
   "execution_count": 116,
   "metadata": {},
   "outputs": [
    {
     "name": "stdout",
     "output_type": "stream",
     "text": [
      "<class 'float'>\n"
     ]
    }
   ],
   "source": [
    "#22 ¿Por qué arroja error el siguiente cambio de tipo de datos? a = float('3,8')\n",
    "M=float(\"3.8\")\n",
    "print(type(M))\n",
    "\n",
    "#El float lleva punto decimal y no comas por lo tanto la cadena no puede ser interpretada como un numero flotante"
   ]
  },
  {
   "cell_type": "code",
   "execution_count": 120,
   "metadata": {},
   "outputs": [
    {
     "name": "stdout",
     "output_type": "stream",
     "text": [
      "2\n"
     ]
    }
   ],
   "source": [
    "#23 Crear una variable con el valor 3, y utilizar el operador '-=' para modificar su contenido\n",
    "variable6=3\n",
    "variable6-=1   #con esto restas al valor iriginal de la variable   1   y lo hace el nuevo valor de la variable \n",
    "print(variable6)\n"
   ]
  },
  {
   "cell_type": "code",
   "execution_count": 121,
   "metadata": {},
   "outputs": [
    {
     "name": "stdout",
     "output_type": "stream",
     "text": [
      "4\n"
     ]
    }
   ],
   "source": [
    "#24 Realizar la operacion 1 << 2 ¿Por qué da ese resultado? ¿Qué es el sistema de numeración binario?\n",
    "variable7=1 << 2\n",
    "print(variable7)\n",
    "\n",
    "#el sistema binario es la fomra en que con communicamos con las maquinas (encendido o apagamos un bit)"
   ]
  },
  {
   "cell_type": "code",
   "execution_count": 128,
   "metadata": {},
   "outputs": [
    {
     "name": "stdout",
     "output_type": "stream",
     "text": [
      "4\n",
      "22\n",
      "<class 'str'>\n"
     ]
    }
   ],
   "source": [
    "#25 Realizar la operación 2 + '2' ¿Por qué no está permitido? ¿Si los dos operandos serían del mismo tipo, siempre arrojaría el mismo resultado?\n",
    "\n",
    "# Si deseas sumar los valores, debes asegurarte de que ambos sean del mismo tipo numérico y no print(2+\"2\")\n",
    "\n",
    "result1 = 2 + int('2')  #converti el string en entero\n",
    "result2=  str(2) + '2'  #converti el entero a string \n",
    "\n",
    "print(result1)\n",
    "print(result2)\n",
    "print(type(result2))\n"
   ]
  },
  {
   "cell_type": "code",
   "execution_count": 133,
   "metadata": {},
   "outputs": [
    {
     "name": "stdout",
     "output_type": "stream",
     "text": [
      "8\n"
     ]
    }
   ],
   "source": [
    "#26 Realizar una operación válida entre valores de tipo entero y string\n",
    "\n",
    "operacion1= int(2)\n",
    "operacion2= int(\"4\")\n",
    "final=operacion1*operacion2\n",
    "print(final)\n"
   ]
  }
 ],
 "metadata": {
  "kernelspec": {
   "display_name": "Python 3",
   "language": "python",
   "name": "python3"
  },
  "language_info": {
   "codemirror_mode": {
    "name": "ipython",
    "version": 3
   },
   "file_extension": ".py",
   "mimetype": "text/x-python",
   "name": "python",
   "nbconvert_exporter": "python",
   "pygments_lexer": "ipython3",
   "version": "3.12.1"
  }
 },
 "nbformat": 4,
 "nbformat_minor": 2
}
